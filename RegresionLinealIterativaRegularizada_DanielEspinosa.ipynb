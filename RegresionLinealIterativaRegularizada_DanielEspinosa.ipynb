{
 "cells": [
  {
   "cell_type": "markdown",
   "metadata": {},
   "source": [
    "## Exploración de regresión lineal iterativa con regularización *Ridge*\n",
    "### Daniel Espinosa\n",
    "\n",
    "### Esta tarea contará para las dos entregas de método iterativo, pues si se toma lambda = 0 en la regularización *Ridge* se obtiene el método iterativo convencional"
   ]
  },
  {
   "cell_type": "code",
   "execution_count": 306,
   "metadata": {},
   "outputs": [],
   "source": [
    "import pandas as pd\n",
    "import numpy as np\n",
    "from sklearn.model_selection import train_test_split\n",
    "from sklearn.linear_model import LinearRegression\n",
    "from sklearn.preprocessing import StandardScaler\n",
    "import matplotlib.pyplot as plt\n",
    "from mpl_toolkits.mplot3d import Axes3D\n",
    "from sklearn.metrics import mean_squared_error"
   ]
  },
  {
   "cell_type": "code",
   "execution_count": 271,
   "metadata": {},
   "outputs": [
    {
     "data": {
      "text/html": [
       "<div>\n",
       "<style>\n",
       "    .dataframe thead tr:only-child th {\n",
       "        text-align: right;\n",
       "    }\n",
       "\n",
       "    .dataframe thead th {\n",
       "        text-align: left;\n",
       "    }\n",
       "\n",
       "    .dataframe tbody tr th {\n",
       "        vertical-align: top;\n",
       "    }\n",
       "</style>\n",
       "<table border=\"1\" class=\"dataframe\">\n",
       "  <thead>\n",
       "    <tr style=\"text-align: right;\">\n",
       "      <th></th>\n",
       "      <th>X</th>\n",
       "      <th>X2</th>\n",
       "      <th>X3</th>\n",
       "      <th>X4</th>\n",
       "      <th>X5</th>\n",
       "      <th>y</th>\n",
       "    </tr>\n",
       "  </thead>\n",
       "  <tbody>\n",
       "    <tr>\n",
       "      <th>count</th>\n",
       "      <td>1029.000000</td>\n",
       "      <td>1029.000000</td>\n",
       "      <td>1029.000000</td>\n",
       "      <td>1029.000000</td>\n",
       "      <td>1029.000000</td>\n",
       "      <td>1029.000000</td>\n",
       "    </tr>\n",
       "    <tr>\n",
       "      <th>mean</th>\n",
       "      <td>48.052380</td>\n",
       "      <td>3113.669342</td>\n",
       "      <td>1.542203</td>\n",
       "      <td>-0.011250</td>\n",
       "      <td>628.000000</td>\n",
       "      <td>3113.490528</td>\n",
       "    </tr>\n",
       "    <tr>\n",
       "      <th>std</th>\n",
       "      <td>28.379936</td>\n",
       "      <td>2891.956247</td>\n",
       "      <td>0.452374</td>\n",
       "      <td>0.717016</td>\n",
       "      <td>297.191016</td>\n",
       "      <td>2892.963581</td>\n",
       "    </tr>\n",
       "    <tr>\n",
       "      <th>min</th>\n",
       "      <td>0.006314</td>\n",
       "      <td>0.000040</td>\n",
       "      <td>-2.199666</td>\n",
       "      <td>-0.999993</td>\n",
       "      <td>114.000000</td>\n",
       "      <td>0.000040</td>\n",
       "    </tr>\n",
       "    <tr>\n",
       "      <th>25%</th>\n",
       "      <td>23.174764</td>\n",
       "      <td>537.069692</td>\n",
       "      <td>1.365015</td>\n",
       "      <td>-0.731530</td>\n",
       "      <td>371.000000</td>\n",
       "      <td>522.757565</td>\n",
       "    </tr>\n",
       "    <tr>\n",
       "      <th>50%</th>\n",
       "      <td>47.655827</td>\n",
       "      <td>2271.077831</td>\n",
       "      <td>1.678116</td>\n",
       "      <td>-0.046938</td>\n",
       "      <td>628.000000</td>\n",
       "      <td>2262.728789</td>\n",
       "    </tr>\n",
       "    <tr>\n",
       "      <th>75%</th>\n",
       "      <td>71.372550</td>\n",
       "      <td>5094.040864</td>\n",
       "      <td>1.853531</td>\n",
       "      <td>0.732296</td>\n",
       "      <td>885.000000</td>\n",
       "      <td>5093.260718</td>\n",
       "    </tr>\n",
       "    <tr>\n",
       "      <th>max</th>\n",
       "      <td>99.873062</td>\n",
       "      <td>9974.628611</td>\n",
       "      <td>1.999448</td>\n",
       "      <td>1.000000</td>\n",
       "      <td>1142.000000</td>\n",
       "      <td>10028.067820</td>\n",
       "    </tr>\n",
       "  </tbody>\n",
       "</table>\n",
       "</div>"
      ],
      "text/plain": [
       "                 X           X2           X3           X4           X5  \\\n",
       "count  1029.000000  1029.000000  1029.000000  1029.000000  1029.000000   \n",
       "mean     48.052380  3113.669342     1.542203    -0.011250   628.000000   \n",
       "std      28.379936  2891.956247     0.452374     0.717016   297.191016   \n",
       "min       0.006314     0.000040    -2.199666    -0.999993   114.000000   \n",
       "25%      23.174764   537.069692     1.365015    -0.731530   371.000000   \n",
       "50%      47.655827  2271.077831     1.678116    -0.046938   628.000000   \n",
       "75%      71.372550  5094.040864     1.853531     0.732296   885.000000   \n",
       "max      99.873062  9974.628611     1.999448     1.000000  1142.000000   \n",
       "\n",
       "                  y  \n",
       "count   1029.000000  \n",
       "mean    3113.490528  \n",
       "std     2892.963581  \n",
       "min        0.000040  \n",
       "25%      522.757565  \n",
       "50%     2262.728789  \n",
       "75%     5093.260718  \n",
       "max    10028.067820  "
      ]
     },
     "execution_count": 271,
     "metadata": {},
     "output_type": "execute_result"
    }
   ],
   "source": [
    "df = pd.read_csv(\"../RegresionLineal/regLinPoli.csv\",header=0)\n",
    "df.describe()"
   ]
  },
  {
   "cell_type": "code",
   "execution_count": 272,
   "metadata": {},
   "outputs": [],
   "source": [
    "X_train, X_test, Y_train, Y_test = train_test_split(df[df.columns[0:-1]],df[df.columns[-1]], train_size=0.75)\n",
    "\n",
    "#conversion a matrices (hace la vida mas facil pues no salen de la nada panda objects imprevistos, AKA: panditas)\n",
    "X_trainM = X_train.as_matrix()\n",
    "Y_trainM = Y_train.as_matrix()\n",
    "\n",
    "X_testM = X_test.as_matrix()\n",
    "Y_testM = Y_test.as_matrix()"
   ]
  },
  {
   "cell_type": "code",
   "execution_count": 273,
   "metadata": {},
   "outputs": [],
   "source": [
    "#estandarizacion de los datos\n",
    "scaler = StandardScaler().fit(X_trainM)\n",
    "X_trainM=scaler.transform(X_trainM)\n",
    "X_testM=scaler.transform(X_testM)"
   ]
  },
  {
   "cell_type": "code",
   "execution_count": 274,
   "metadata": {},
   "outputs": [],
   "source": [
    "#Definimos un valor para eta y lambda, por ahora 0.01\n",
    "eta = 0.01\n",
    "lmbd = 0.01"
   ]
  },
  {
   "cell_type": "code",
   "execution_count": 275,
   "metadata": {
    "collapsed": true
   },
   "outputs": [],
   "source": [
    "#Le pasamos el arreglo de ws y la tupla Xi en cuestion\n",
    "def Vest(ws, Xi):\n",
    "    v = ws[0]\n",
    "    for i in range(len(Xi)):\n",
    "        v += Xi[i]*ws[i+1]\n",
    "    \n",
    "    return v"
   ]
  },
  {
   "cell_type": "code",
   "execution_count": 276,
   "metadata": {
    "collapsed": true
   },
   "outputs": [],
   "source": [
    "#eta es la constante, Yi el valor real de Y para la tupla i, Vi el valor de la prediccion para la tupla i\n",
    "def calcErrorW0(eta,Yi,Vi):\n",
    "    errw0 = (eta*(Yi-Vi))\n",
    "    return errw0"
   ]
  },
  {
   "cell_type": "code",
   "execution_count": 277,
   "metadata": {},
   "outputs": [],
   "source": [
    "def calcErrorWi(eta,Yi,Vi,Xi):\n",
    "    errorwi = []\n",
    "    for i in range(0,len(Xi)):\n",
    "        errorwi.append(eta*(Yi-Vi)*Xi[i])\n",
    "    return errorwi"
   ]
  },
  {
   "cell_type": "code",
   "execution_count": 278,
   "metadata": {
    "collapsed": true
   },
   "outputs": [],
   "source": [
    "def iterate(wi,X,Y,eta,lmbd):\n",
    "    #init\n",
    "    arreTempW = []\n",
    "    V = Vest(wi,X[0])\n",
    "    errw0 = calcErrorW0(eta,Y[0],V)\n",
    "    arreTempW.append(wi[0] + errw0)\n",
    "    \n",
    "    errwi = calcErrorWi(eta,Y[0],V,X[0])\n",
    "    for i in range(1,len(wi)):\n",
    "        arreTempW.append(wi[i] + errwi[i-1] - lmbd*wi[i])\n",
    "        \n",
    "    \n",
    "    #miniupdate\n",
    "    wi = arreTempW #Actualizamos la primera iteracion de los coeficientes\n",
    "    \n",
    "        \n",
    "    \n",
    "    #calculate\n",
    "    for i in range(1,len(X)):\n",
    "        V = Vest(wi,X[i])\n",
    "        errw0 = calcErrorW0(eta,Y[i],V)\n",
    "        arreTempW[0] = (wi[0] + errw0)\n",
    "        \n",
    "        errwi = calcErrorWi(eta,Y[i],V,X[i])\n",
    "        for j in range(1,len(wi)):\n",
    "            arreTempW[j] = (wi[j] + errwi[j-1] - (lmbd*wi[j]))\n",
    "    \n",
    "        \n",
    "        \n",
    "        #update\n",
    "        wi = arreTempW\n",
    "    \n",
    "    return wi\n",
    "        "
   ]
  },
  {
   "cell_type": "markdown",
   "metadata": {},
   "source": [
    "Creamos el arreglo para los w (serán 6 en total, de w0 a w5)"
   ]
  },
  {
   "cell_type": "code",
   "execution_count": 297,
   "metadata": {},
   "outputs": [
    {
     "data": {
      "text/plain": [
       "array([ 0.49208003, -2.1733151 , -1.60469105, -2.69642727, -4.18494859,\n",
       "       -4.03064195])"
      ]
     },
     "execution_count": 297,
     "metadata": {},
     "output_type": "execute_result"
    }
   ],
   "source": [
    "arreW = []\n",
    "#Inicializamos los coeficientes en numeros aleatorios entre -5 y 5 (why not?)\n",
    "\n",
    "arreW = (np.random.rand(6)*10) - 5\n",
    "arreW"
   ]
  },
  {
   "cell_type": "markdown",
   "metadata": {},
   "source": [
    "Lo corremos.... godspeed...."
   ]
  },
  {
   "cell_type": "code",
   "execution_count": 298,
   "metadata": {},
   "outputs": [],
   "source": [
    "arreW = iterate(arreW,X_trainM,Y_trainM,0.02,0)"
   ]
  },
  {
   "cell_type": "code",
   "execution_count": 299,
   "metadata": {},
   "outputs": [
    {
     "data": {
      "text/plain": [
       "[3167.3254581021847,\n",
       " 1102.1603197455195,\n",
       " 2114.8757207050962,\n",
       " -378.57744319435477,\n",
       " -13.691355954107376,\n",
       " 3.1281147539395264]"
      ]
     },
     "execution_count": 299,
     "metadata": {},
     "output_type": "execute_result"
    }
   ],
   "source": [
    "arreW"
   ]
  },
  {
   "cell_type": "code",
   "execution_count": 300,
   "metadata": {},
   "outputs": [],
   "source": [
    "Y_predict = np.zeros(len(X_trainM))\n",
    "for i in range(len(X_trainM)):\n",
    "    Y_predict[i] = Vest(arreW,X_trainM[i])"
   ]
  },
  {
   "cell_type": "markdown",
   "metadata": {},
   "source": [
    "Veamos las gráficas para cada variable de X (todo con entrenamiento) contra su Y correspondiente y en las mismas gráficas la variable correspondiente de X contra la Y de predicción del modelo. "
   ]
  },
  {
   "cell_type": "code",
   "execution_count": 406,
   "metadata": {},
   "outputs": [
    {
     "data": {
      "image/png": "[encoded data removed]",
      "text/plain": [
       "<matplotlib.figure.Figure at 0x10c324a90>"
      ]
     },
     "metadata": {},
     "output_type": "display_data"
    }
   ],
   "source": [
    "plt.plot(X_trainM[:,0], Y_trainM, 'ro')\n",
    "plt.plot(X_trainM[:,0], Y_predict, 'go')\n",
    "plt.show()"
   ]
  },
  {
   "cell_type": "code",
   "execution_count": 407,
   "metadata": {},
   "outputs": [
    {
     "data": {
      "image/png": "[encoded data removed]",
      "text/plain": [
       "<matplotlib.figure.Figure at 0x10bf3f710>"
      ]
     },
     "metadata": {},
     "output_type": "display_data"
    }
   ],
   "source": [
    "plt.plot(X_trainM[:,1], Y_trainM, 'ro')\n",
    "plt.plot(X_trainM[:,1], Y_predict, 'go')\n",
    "plt.show()"
   ]
  },
  {
   "cell_type": "code",
   "execution_count": 408,
   "metadata": {},
   "outputs": [
    {
     "data": {
      "image/png": "[encoded data removed]",
      "text/plain": [
       "<matplotlib.figure.Figure at 0x10baa8a50>"
      ]
     },
     "metadata": {},
     "output_type": "display_data"
    }
   ],
   "source": [
    "plt.plot(X_trainM[:,2], Y_trainM, 'ro')\n",
    "plt.plot(X_trainM[:,2], Y_predict, 'go')\n",
    "plt.show()"
   ]
  },
  {
   "cell_type": "code",
   "execution_count": 409,
   "metadata": {},
   "outputs": [
    {
     "data": {
      "image/png": "[encoded data removed]",
      "text/plain": [
       "<matplotlib.figure.Figure at 0x10c7ac950>"
      ]
     },
     "metadata": {},
     "output_type": "display_data"
    }
   ],
   "source": [
    "plt.plot(X_trainM[:,3], Y_trainM, 'ro')\n",
    "plt.plot(X_trainM[:,3], Y_predict, 'go')\n",
    "plt.show()"
   ]
  },
  {
   "cell_type": "code",
   "execution_count": 410,
   "metadata": {},
   "outputs": [
    {
     "data": {
      "image/png": "[encoded data removed]",
      "text/plain": [
       "<matplotlib.figure.Figure at 0x10c307110>"
      ]
     },
     "metadata": {},
     "output_type": "display_data"
    }
   ],
   "source": [
    "plt.plot(X_trainM[:,4], Y_trainM, 'ro')\n",
    "plt.plot(X_trainM[:,4], Y_predict, 'go')\n",
    "plt.show()"
   ]
  },
  {
   "cell_type": "markdown",
   "metadata": {},
   "source": [
    "En estas gráficas se puede observar que tomando los parámetros eta = 0.02 y lambda = 0, para todas las variables de X_TrainM el modelo se ajusta de manera fuerte pues los puntos que el modelo 'predice' o mas bien computa con la función construída caen todos muy cerca de los puntos verdaderos. Para tener una mejor métrica, podemos utilizar el MSE."
   ]
  },
  {
   "cell_type": "markdown",
   "metadata": {},
   "source": [
    "Calculamos el MSE para estos parámetros"
   ]
  },
  {
   "cell_type": "code",
   "execution_count": 307,
   "metadata": {},
   "outputs": [
    {
     "data": {
      "text/plain": [
       "26265.278726915451"
      ]
     },
     "execution_count": 307,
     "metadata": {},
     "output_type": "execute_result"
    }
   ],
   "source": [
    "mean_squared_error(Y_trainM, Y_predict)"
   ]
  },
  {
   "cell_type": "markdown",
   "metadata": {},
   "source": [
    "Para facilitarnos la vida podemos hacer una funcion que nos entregue la prediccion final dados todos los parámetros, osea poner todo junto."
   ]
  },
  {
   "cell_type": "code",
   "execution_count": 411,
   "metadata": {
    "collapsed": true
   },
   "outputs": [],
   "source": [
    "#Regresa el arreglo de coeficientes 'entrenado' para la informacion de X y Y dados eta y lambda\n",
    "def train(X,Y,eta,lmbd):\n",
    "    #Crear coeficientes aleatorios\n",
    "    arreW = []\n",
    "    arreW = (np.random.rand(6)*10) - 5\n",
    "    \n",
    "    \n",
    "    #Actualizarlos mediante la iteracion de los datos\n",
    "    arreW = iterate(arreW,X,Y,eta,lmbd)\n",
    "    \n",
    "    return arreW\n",
    "    \n",
    "    "
   ]
  },
  {
   "cell_type": "code",
   "execution_count": 412,
   "metadata": {
    "collapsed": true
   },
   "outputs": [],
   "source": [
    "#Regresa el arreglo de Y predicho dados los coeficientes entrenados y el arreglo X que se desea predecir.\n",
    "def predict(wi,X):\n",
    "    #Formar el arreglo de prediccion\n",
    "    Y_predict = np.zeros(len(X))\n",
    "    for i in range(len(X)):\n",
    "        Y_predict[i] = Vest(wi,X[i])\n",
    "    \n",
    "    return Y_predict"
   ]
  },
  {
   "cell_type": "markdown",
   "metadata": {},
   "source": [
    "Ahora experimentamos un poco con el parámetro eta y vemos qué sucede. Variémoslo de 0.01 a 0.2 y observemos el MSE que da esto."
   ]
  },
  {
   "cell_type": "code",
   "execution_count": 457,
   "metadata": {},
   "outputs": [],
   "source": [
    "etArr = np.linspace(0.01,0.2,100)\n",
    "mse = []\n",
    "for i in range(len(etArr)):\n",
    "    coefs = train(X_trainM, Y_trainM, etArr[i],0)\n",
    "    predicted = predict(coefs,X_trainM)\n",
    "    mse.append(mean_squared_error(Y_trainM, predicted))"
   ]
  },
  {
   "cell_type": "code",
   "execution_count": 458,
   "metadata": {},
   "outputs": [
    {
     "data": {
      "image/png": "[encoded data removed]",
      "text/plain": [
       "<matplotlib.figure.Figure at 0x10509c850>"
      ]
     },
     "metadata": {},
     "output_type": "display_data"
    }
   ],
   "source": [
    "plt.plot(etArr, mse, 'ro')\n",
    "plt.show()"
   ]
  },
  {
   "cell_type": "code",
   "execution_count": 460,
   "metadata": {
    "scrolled": true
   },
   "outputs": [
    {
     "data": {
      "text/plain": [
       "0.18272727272727274"
      ]
     },
     "execution_count": 460,
     "metadata": {},
     "output_type": "execute_result"
    }
   ],
   "source": [
    "etaOptima = etArr[mse.index(min(mse))]\n",
    "etaOptima"
   ]
  },
  {
   "cell_type": "markdown",
   "metadata": {},
   "source": [
    "Como podemos ver, la variable eta optimiza la función de MSE aproximadamente al rededor de 0.18 (el resultado exacto varía pues la técnica es iterativa y los coeficientes se inicializan de manera aleatoria cada vez que se corre, además esta solución se obtiene de un modelo discreto y no analítico y continuo pero la aproximación es suficientemente buena)\n",
    "\n",
    "Ahora, podemos hacer lo mismo respecto a lambda y fijamos a eta como esta óptima que encontramos."
   ]
  },
  {
   "cell_type": "code",
   "execution_count": 491,
   "metadata": {
    "collapsed": true
   },
   "outputs": [],
   "source": [
    "lambdArr = np.linspace(0.00001,1.2,1000)\n",
    "mse = []\n",
    "for i in range(len(lambdArr)):\n",
    "    coefs = train(X_trainM, Y_trainM, etaOptima,lambdArr[i])\n",
    "    predicted = predict(coefs,X_trainM)\n",
    "    mse.append(mean_squared_error(Y_trainM, predicted))"
   ]
  },
  {
   "cell_type": "code",
   "execution_count": 492,
   "metadata": {},
   "outputs": [
    {
     "data": {
      "image/png": "[encoded data removed]",
      "text/plain": [
       "<matplotlib.figure.Figure at 0x10c079b10>"
      ]
     },
     "metadata": {},
     "output_type": "display_data"
    }
   ],
   "source": [
    "plt.plot(lambdArr, mse, 'ro')\n",
    "plt.show()"
   ]
  },
  {
   "cell_type": "code",
   "execution_count": 493,
   "metadata": {
    "scrolled": true
   },
   "outputs": [
    {
     "data": {
      "text/plain": [
       "1.0000000000000001e-05"
      ]
     },
     "execution_count": 493,
     "metadata": {},
     "output_type": "execute_result"
    }
   ],
   "source": [
    "lambdaOptima = lambdArr[mse.index(min(mse))]\n",
    "lambdaOptima"
   ]
  },
  {
   "cell_type": "markdown",
   "metadata": {},
   "source": [
    "Resulta que para cualquier valor de lambda mayor a cero explorado en este rango, el valor de MSE aumenta. (Para valores más grandes que 1.2 de lambda la función se dispara y crece rápido, por lo que no se graficó un rango más amplio)"
   ]
  }
 ],
 "metadata": {
  "kernelspec": {
   "display_name": "Python 2",
   "language": "python",
   "name": "python2"
  },
  "language_info": {
   "codemirror_mode": {
    "name": "ipython",
    "version": 2
   },
   "file_extension": ".py",
   "mimetype": "text/x-python",
   "name": "python",
   "nbconvert_exporter": "python",
   "pygments_lexer": "ipython2",
   "version": "2.7.13"
  }
 },
 "nbformat": 4,
 "nbformat_minor": 2
}
